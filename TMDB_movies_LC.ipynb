{
 "cells": [
  {
   "cell_type": "markdown",
   "metadata": {},
   "source": [
    "# Project 2: Investigate the TMDB Dataset (Kaggle data)\n",
    "[Link to the dataset on Kaggle](https://www.kaggle.com/kevinmariogerard/tmdb-movie-dataset)\n",
    "## Table of Contents\n",
    "<ul>\n",
    "<li><a href=\"#intro\">Introduction</a></li>\n",
    "\n",
    "<li><a href=\"#wrangling\">Data Wrangling</a></li>\n",
    "<li><a href=\"#eda\">Exploratory Data Analysis</a></li>\n",
    "<li><a href=\"#conclusions\">Conclusions</a></li>\n",
    "</ul>"
   ]
  },
  {
   "cell_type": "markdown",
   "metadata": {},
   "source": [
    "<a id='intro'></a>\n",
    "## Introduction\n",
    "\n",
    "#### Use TMdb dataset to answer the following questions:\n",
    "   > **1**. Rank movies by revenue, budget, and profit, all inflation-adjusted.\n",
    "   \n",
    "   > **2**. What kinds of properties are associated with movies that have high revenues? What about high profits?\n",
    "   \n",
    "   > **3**. What factors correlate with the profit for a commercially succesfully* movie? (defined by profit greater than 500 mil USD)\n",
    "   \n",
    "   > **4**. What are the 10 most popular genres since 1990s?\n",
    "   \n",
    "   > **5**. Who are the 10 most active actors/actresses since 2000s?"
   ]
  },
  {
   "cell_type": "code",
   "execution_count": 1,
   "metadata": {},
   "outputs": [],
   "source": [
    "# Import libraries\n",
    "import pandas as pd\n",
    "import numpy as np\n",
    "import seaborn as sns\n",
    "import matplotlib.pyplot as plt\n",
    "%matplotlib inline"
   ]
  },
  {
   "cell_type": "markdown",
   "metadata": {},
   "source": [
    "<a id='wrangling'></a>\n",
    "## Data Wrangling\n",
    "\n",
    "### General Properties"
   ]
  },
  {
   "cell_type": "code",
   "execution_count": 3,
   "metadata": {},
   "outputs": [],
   "source": [
    "# Load your data and print out a few lines. Perform operations to inspect data\n",
    "df= pd.read_csv('tmdb-movies.csv')"
   ]
  },
  {
   "cell_type": "code",
   "execution_count": 4,
   "metadata": {},
   "outputs": [
    {
     "name": "stdout",
     "output_type": "stream",
     "text": [
      "<class 'pandas.core.frame.DataFrame'>\n",
      "RangeIndex: 10866 entries, 0 to 10865\n",
      "Data columns (total 21 columns):\n",
      "id                      10866 non-null int64\n",
      "imdb_id                 10856 non-null object\n",
      "popularity              10866 non-null float64\n",
      "budget                  10866 non-null int64\n",
      "revenue                 10866 non-null int64\n",
      "original_title          10866 non-null object\n",
      "cast                    10790 non-null object\n",
      "homepage                2936 non-null object\n",
      "director                10822 non-null object\n",
      "tagline                 8042 non-null object\n",
      "keywords                9373 non-null object\n",
      "overview                10862 non-null object\n",
      "runtime                 10866 non-null int64\n",
      "genres                  10843 non-null object\n",
      "production_companies    9836 non-null object\n",
      "release_date            10866 non-null object\n",
      "vote_count              10866 non-null int64\n",
      "vote_average            10866 non-null float64\n",
      "release_year            10866 non-null int64\n",
      "budget_adj              10866 non-null float64\n",
      "revenue_adj             10866 non-null float64\n",
      "dtypes: float64(4), int64(6), object(11)\n",
      "memory usage: 1.7+ MB\n"
     ]
    }
   ],
   "source": [
    "# Check the data, number of samples, columns and datatype\n",
    "df.info();"
   ]
  },
  {
   "cell_type": "markdown",
   "metadata": {},
   "source": [
    "### Clean up the columns"
   ]
  },
  {
   "cell_type": "code",
   "execution_count": 5,
   "metadata": {},
   "outputs": [],
   "source": [
    "#Drop columns irrelevants to this analysis\n",
    "#Adjusted budget and adjusted revenue suffice as they allow for apple-to-apple comparison\n",
    "#Remove revenue and budget\n",
    "df.drop(['imdb_id','budget','revenue','tagline','homepage','keywords','overview'],axis=1,inplace=True)"
   ]
  },
  {
   "cell_type": "code",
   "execution_count": 6,
   "metadata": {},
   "outputs": [
    {
     "data": {
      "text/plain": [
       "0       2015-06-09\n",
       "1       2015-05-13\n",
       "2       2015-03-18\n",
       "3       2015-12-15\n",
       "4       2015-04-01\n",
       "5       2015-12-25\n",
       "6       2015-06-23\n",
       "7       2015-09-30\n",
       "8       2015-06-17\n",
       "9       2015-06-09\n",
       "10      2015-10-26\n",
       "11      2015-02-04\n",
       "12      2015-01-21\n",
       "13      2015-07-16\n",
       "14      2015-04-22\n",
       "15      2015-12-25\n",
       "16      2015-01-01\n",
       "17      2015-07-14\n",
       "18      2015-03-12\n",
       "19      2015-11-18\n",
       "20      2015-05-19\n",
       "21      2015-06-15\n",
       "22      2015-05-27\n",
       "23      2015-02-11\n",
       "24      2015-12-11\n",
       "25      2015-07-23\n",
       "26      2015-06-25\n",
       "27      2015-01-24\n",
       "28      2015-11-06\n",
       "29      2015-09-09\n",
       "           ...    \n",
       "10836   2066-01-01\n",
       "10837   2066-06-21\n",
       "10838   2066-11-01\n",
       "10839   2066-10-27\n",
       "10840   2066-12-22\n",
       "10841   2066-10-23\n",
       "10842   2066-01-01\n",
       "10843   2066-06-09\n",
       "10844   2066-01-16\n",
       "10845   2066-03-01\n",
       "10846   2066-01-09\n",
       "10847   2066-06-20\n",
       "10848   2066-08-24\n",
       "10849   2066-12-16\n",
       "10850   2066-02-23\n",
       "10851   2066-06-22\n",
       "10852   2066-05-31\n",
       "10853   2066-03-29\n",
       "10854   2066-02-17\n",
       "10855   2066-01-20\n",
       "10856   2066-02-16\n",
       "10857   2066-06-10\n",
       "10858   2066-05-25\n",
       "10859   2066-10-05\n",
       "10860   2066-05-20\n",
       "10861   2066-06-15\n",
       "10862   2066-12-21\n",
       "10863   2066-01-01\n",
       "10864   2066-11-02\n",
       "10865   2066-11-15\n",
       "Name: release_date, Length: 10866, dtype: datetime64[ns]"
      ]
     },
     "execution_count": 6,
     "metadata": {},
     "output_type": "execute_result"
    }
   ],
   "source": [
    "#release_date and release_year are both in string format, try fix this with to_date\n",
    "df.release_date=pd.to_datetime(df.release_date,infer_datetime_format=True)\n",
    "df.release_date"
   ]
  },
  {
   "cell_type": "code",
   "execution_count": 7,
   "metadata": {},
   "outputs": [],
   "source": [
    "#Some dates are not parsed correctly in the column 'release_date',fix it\n",
    "from pandas.tseries.offsets import DateOffset\n",
    "df.release_date=df.release_date.apply(lambda x: x-DateOffset(years=100) if x.year>=2020 else x)"
   ]
  },
  {
   "cell_type": "code",
   "execution_count": 8,
   "metadata": {},
   "outputs": [
    {
     "data": {
      "text/html": [
       "<div>\n",
       "<style scoped>\n",
       "    .dataframe tbody tr th:only-of-type {\n",
       "        vertical-align: middle;\n",
       "    }\n",
       "\n",
       "    .dataframe tbody tr th {\n",
       "        vertical-align: top;\n",
       "    }\n",
       "\n",
       "    .dataframe thead th {\n",
       "        text-align: right;\n",
       "    }\n",
       "</style>\n",
       "<table border=\"1\" class=\"dataframe\">\n",
       "  <thead>\n",
       "    <tr style=\"text-align: right;\">\n",
       "      <th></th>\n",
       "      <th>id</th>\n",
       "      <th>popularity</th>\n",
       "      <th>runtime</th>\n",
       "      <th>vote_count</th>\n",
       "      <th>vote_average</th>\n",
       "      <th>release_year</th>\n",
       "      <th>budget_adj</th>\n",
       "      <th>revenue_adj</th>\n",
       "    </tr>\n",
       "  </thead>\n",
       "  <tbody>\n",
       "    <tr>\n",
       "      <th>count</th>\n",
       "      <td>10866.000000</td>\n",
       "      <td>10866.000000</td>\n",
       "      <td>10866.000000</td>\n",
       "      <td>10866.000000</td>\n",
       "      <td>10866.000000</td>\n",
       "      <td>10866.000000</td>\n",
       "      <td>1.086600e+04</td>\n",
       "      <td>1.086600e+04</td>\n",
       "    </tr>\n",
       "    <tr>\n",
       "      <th>mean</th>\n",
       "      <td>66064.177434</td>\n",
       "      <td>0.646441</td>\n",
       "      <td>102.070863</td>\n",
       "      <td>217.389748</td>\n",
       "      <td>5.974922</td>\n",
       "      <td>2001.322658</td>\n",
       "      <td>1.755104e+07</td>\n",
       "      <td>5.136436e+07</td>\n",
       "    </tr>\n",
       "    <tr>\n",
       "      <th>std</th>\n",
       "      <td>92130.136561</td>\n",
       "      <td>1.000185</td>\n",
       "      <td>31.381405</td>\n",
       "      <td>575.619058</td>\n",
       "      <td>0.935142</td>\n",
       "      <td>12.812941</td>\n",
       "      <td>3.430616e+07</td>\n",
       "      <td>1.446325e+08</td>\n",
       "    </tr>\n",
       "    <tr>\n",
       "      <th>min</th>\n",
       "      <td>5.000000</td>\n",
       "      <td>0.000065</td>\n",
       "      <td>0.000000</td>\n",
       "      <td>10.000000</td>\n",
       "      <td>1.500000</td>\n",
       "      <td>1960.000000</td>\n",
       "      <td>0.000000e+00</td>\n",
       "      <td>0.000000e+00</td>\n",
       "    </tr>\n",
       "    <tr>\n",
       "      <th>25%</th>\n",
       "      <td>10596.250000</td>\n",
       "      <td>0.207583</td>\n",
       "      <td>90.000000</td>\n",
       "      <td>17.000000</td>\n",
       "      <td>5.400000</td>\n",
       "      <td>1995.000000</td>\n",
       "      <td>0.000000e+00</td>\n",
       "      <td>0.000000e+00</td>\n",
       "    </tr>\n",
       "    <tr>\n",
       "      <th>50%</th>\n",
       "      <td>20669.000000</td>\n",
       "      <td>0.383856</td>\n",
       "      <td>99.000000</td>\n",
       "      <td>38.000000</td>\n",
       "      <td>6.000000</td>\n",
       "      <td>2006.000000</td>\n",
       "      <td>0.000000e+00</td>\n",
       "      <td>0.000000e+00</td>\n",
       "    </tr>\n",
       "    <tr>\n",
       "      <th>75%</th>\n",
       "      <td>75610.000000</td>\n",
       "      <td>0.713817</td>\n",
       "      <td>111.000000</td>\n",
       "      <td>145.750000</td>\n",
       "      <td>6.600000</td>\n",
       "      <td>2011.000000</td>\n",
       "      <td>2.085325e+07</td>\n",
       "      <td>3.369710e+07</td>\n",
       "    </tr>\n",
       "    <tr>\n",
       "      <th>max</th>\n",
       "      <td>417859.000000</td>\n",
       "      <td>32.985763</td>\n",
       "      <td>900.000000</td>\n",
       "      <td>9767.000000</td>\n",
       "      <td>9.200000</td>\n",
       "      <td>2015.000000</td>\n",
       "      <td>4.250000e+08</td>\n",
       "      <td>2.827124e+09</td>\n",
       "    </tr>\n",
       "  </tbody>\n",
       "</table>\n",
       "</div>"
      ],
      "text/plain": [
       "                  id    popularity       runtime    vote_count  vote_average  \\\n",
       "count   10866.000000  10866.000000  10866.000000  10866.000000  10866.000000   \n",
       "mean    66064.177434      0.646441    102.070863    217.389748      5.974922   \n",
       "std     92130.136561      1.000185     31.381405    575.619058      0.935142   \n",
       "min         5.000000      0.000065      0.000000     10.000000      1.500000   \n",
       "25%     10596.250000      0.207583     90.000000     17.000000      5.400000   \n",
       "50%     20669.000000      0.383856     99.000000     38.000000      6.000000   \n",
       "75%     75610.000000      0.713817    111.000000    145.750000      6.600000   \n",
       "max    417859.000000     32.985763    900.000000   9767.000000      9.200000   \n",
       "\n",
       "       release_year    budget_adj   revenue_adj  \n",
       "count  10866.000000  1.086600e+04  1.086600e+04  \n",
       "mean    2001.322658  1.755104e+07  5.136436e+07  \n",
       "std       12.812941  3.430616e+07  1.446325e+08  \n",
       "min     1960.000000  0.000000e+00  0.000000e+00  \n",
       "25%     1995.000000  0.000000e+00  0.000000e+00  \n",
       "50%     2006.000000  0.000000e+00  0.000000e+00  \n",
       "75%     2011.000000  2.085325e+07  3.369710e+07  \n",
       "max     2015.000000  4.250000e+08  2.827124e+09  "
      ]
     },
     "execution_count": 8,
     "metadata": {},
     "output_type": "execute_result"
    }
   ],
   "source": [
    "#Check the data\n",
    "df.describe()"
   ]
  },
  {
   "cell_type": "code",
   "execution_count": 9,
   "metadata": {},
   "outputs": [],
   "source": [
    "# Drop release_year column because it is redundent now \n",
    "df.drop('release_year',axis=1,inplace=True)"
   ]
  },
  {
   "cell_type": "markdown",
   "metadata": {},
   "source": [
    "### Check missing values and duplicates "
   ]
  },
  {
   "cell_type": "code",
   "execution_count": 10,
   "metadata": {},
   "outputs": [
    {
     "name": "stdout",
     "output_type": "stream",
     "text": [
      "<class 'pandas.core.frame.DataFrame'>\n",
      "RangeIndex: 10866 entries, 0 to 10865\n",
      "Data columns (total 13 columns):\n",
      "id                      10866 non-null int64\n",
      "popularity              10866 non-null float64\n",
      "original_title          10866 non-null object\n",
      "cast                    10790 non-null object\n",
      "director                10822 non-null object\n",
      "runtime                 10866 non-null int64\n",
      "genres                  10843 non-null object\n",
      "production_companies    9836 non-null object\n",
      "release_date            10866 non-null datetime64[ns]\n",
      "vote_count              10866 non-null int64\n",
      "vote_average            10866 non-null float64\n",
      "budget_adj              10866 non-null float64\n",
      "revenue_adj             10866 non-null float64\n",
      "dtypes: datetime64[ns](1), float64(4), int64(3), object(5)\n",
      "memory usage: 1.1+ MB\n"
     ]
    }
   ],
   "source": [
    "df.info()"
   ]
  },
  {
   "cell_type": "code",
   "execution_count": 11,
   "metadata": {},
   "outputs": [
    {
     "data": {
      "text/html": [
       "<div>\n",
       "<style scoped>\n",
       "    .dataframe tbody tr th:only-of-type {\n",
       "        vertical-align: middle;\n",
       "    }\n",
       "\n",
       "    .dataframe tbody tr th {\n",
       "        vertical-align: top;\n",
       "    }\n",
       "\n",
       "    .dataframe thead th {\n",
       "        text-align: right;\n",
       "    }\n",
       "</style>\n",
       "<table border=\"1\" class=\"dataframe\">\n",
       "  <thead>\n",
       "    <tr style=\"text-align: right;\">\n",
       "      <th></th>\n",
       "      <th>id</th>\n",
       "      <th>popularity</th>\n",
       "      <th>original_title</th>\n",
       "      <th>cast</th>\n",
       "      <th>director</th>\n",
       "      <th>runtime</th>\n",
       "      <th>genres</th>\n",
       "      <th>production_companies</th>\n",
       "      <th>release_date</th>\n",
       "      <th>vote_count</th>\n",
       "      <th>vote_average</th>\n",
       "      <th>budget_adj</th>\n",
       "      <th>revenue_adj</th>\n",
       "    </tr>\n",
       "  </thead>\n",
       "  <tbody>\n",
       "    <tr>\n",
       "      <th>371</th>\n",
       "      <td>345637</td>\n",
       "      <td>0.422901</td>\n",
       "      <td>Sanjay's Super Team</td>\n",
       "      <td>NaN</td>\n",
       "      <td>Sanjay Patel</td>\n",
       "      <td>7</td>\n",
       "      <td>Animation</td>\n",
       "      <td>Pixar Animation Studios</td>\n",
       "      <td>2015-11-25</td>\n",
       "      <td>47</td>\n",
       "      <td>6.9</td>\n",
       "      <td>0.0</td>\n",
       "      <td>0.0</td>\n",
       "    </tr>\n",
       "    <tr>\n",
       "      <th>441</th>\n",
       "      <td>355020</td>\n",
       "      <td>0.220751</td>\n",
       "      <td>Winter on Fire: Ukraine's Fight for Freedom</td>\n",
       "      <td>NaN</td>\n",
       "      <td>Evgeny Afineevsky</td>\n",
       "      <td>98</td>\n",
       "      <td>Documentary</td>\n",
       "      <td>Passion Pictures|Campbell Grobman Films|Afinee...</td>\n",
       "      <td>2015-10-09</td>\n",
       "      <td>37</td>\n",
       "      <td>8.2</td>\n",
       "      <td>0.0</td>\n",
       "      <td>0.0</td>\n",
       "    </tr>\n",
       "    <tr>\n",
       "      <th>465</th>\n",
       "      <td>321109</td>\n",
       "      <td>0.201696</td>\n",
       "      <td>Bitter Lake</td>\n",
       "      <td>NaN</td>\n",
       "      <td>Adam Curtis</td>\n",
       "      <td>135</td>\n",
       "      <td>Documentary</td>\n",
       "      <td>BBC</td>\n",
       "      <td>2015-01-24</td>\n",
       "      <td>19</td>\n",
       "      <td>7.8</td>\n",
       "      <td>0.0</td>\n",
       "      <td>0.0</td>\n",
       "    </tr>\n",
       "    <tr>\n",
       "      <th>536</th>\n",
       "      <td>333350</td>\n",
       "      <td>0.122543</td>\n",
       "      <td>A Faster Horse</td>\n",
       "      <td>NaN</td>\n",
       "      <td>David Gelb</td>\n",
       "      <td>90</td>\n",
       "      <td>Documentary</td>\n",
       "      <td>NaN</td>\n",
       "      <td>2015-10-08</td>\n",
       "      <td>12</td>\n",
       "      <td>8.0</td>\n",
       "      <td>0.0</td>\n",
       "      <td>0.0</td>\n",
       "    </tr>\n",
       "    <tr>\n",
       "      <th>538</th>\n",
       "      <td>224972</td>\n",
       "      <td>0.114264</td>\n",
       "      <td>The Mask You Live In</td>\n",
       "      <td>NaN</td>\n",
       "      <td>Jennifer Siebel Newsom</td>\n",
       "      <td>88</td>\n",
       "      <td>Documentary</td>\n",
       "      <td>NaN</td>\n",
       "      <td>2015-01-01</td>\n",
       "      <td>11</td>\n",
       "      <td>8.9</td>\n",
       "      <td>0.0</td>\n",
       "      <td>0.0</td>\n",
       "    </tr>\n",
       "  </tbody>\n",
       "</table>\n",
       "</div>"
      ],
      "text/plain": [
       "         id  popularity                               original_title cast  \\\n",
       "371  345637    0.422901                          Sanjay's Super Team  NaN   \n",
       "441  355020    0.220751  Winter on Fire: Ukraine's Fight for Freedom  NaN   \n",
       "465  321109    0.201696                                  Bitter Lake  NaN   \n",
       "536  333350    0.122543                               A Faster Horse  NaN   \n",
       "538  224972    0.114264                         The Mask You Live In  NaN   \n",
       "\n",
       "                   director  runtime       genres  \\\n",
       "371            Sanjay Patel        7    Animation   \n",
       "441       Evgeny Afineevsky       98  Documentary   \n",
       "465             Adam Curtis      135  Documentary   \n",
       "536              David Gelb       90  Documentary   \n",
       "538  Jennifer Siebel Newsom       88  Documentary   \n",
       "\n",
       "                                  production_companies release_date  \\\n",
       "371                            Pixar Animation Studios   2015-11-25   \n",
       "441  Passion Pictures|Campbell Grobman Films|Afinee...   2015-10-09   \n",
       "465                                                BBC   2015-01-24   \n",
       "536                                                NaN   2015-10-08   \n",
       "538                                                NaN   2015-01-01   \n",
       "\n",
       "     vote_count  vote_average  budget_adj  revenue_adj  \n",
       "371          47           6.9         0.0          0.0  \n",
       "441          37           8.2         0.0          0.0  \n",
       "465          19           7.8         0.0          0.0  \n",
       "536          12           8.0         0.0          0.0  \n",
       "538          11           8.9         0.0          0.0  "
      ]
     },
     "execution_count": 11,
     "metadata": {},
     "output_type": "execute_result"
    }
   ],
   "source": [
    "df[df['cast'].isnull()].head()\n",
    "# They are very unpopular or unsuccessful movies.OK to drop"
   ]
  },
  {
   "cell_type": "code",
   "execution_count": 12,
   "metadata": {},
   "outputs": [
    {
     "data": {
      "text/html": [
       "<div>\n",
       "<style scoped>\n",
       "    .dataframe tbody tr th:only-of-type {\n",
       "        vertical-align: middle;\n",
       "    }\n",
       "\n",
       "    .dataframe tbody tr th {\n",
       "        vertical-align: top;\n",
       "    }\n",
       "\n",
       "    .dataframe thead th {\n",
       "        text-align: right;\n",
       "    }\n",
       "</style>\n",
       "<table border=\"1\" class=\"dataframe\">\n",
       "  <thead>\n",
       "    <tr style=\"text-align: right;\">\n",
       "      <th></th>\n",
       "      <th>id</th>\n",
       "      <th>popularity</th>\n",
       "      <th>original_title</th>\n",
       "      <th>cast</th>\n",
       "      <th>director</th>\n",
       "      <th>runtime</th>\n",
       "      <th>genres</th>\n",
       "      <th>production_companies</th>\n",
       "      <th>release_date</th>\n",
       "      <th>vote_count</th>\n",
       "      <th>vote_average</th>\n",
       "      <th>budget_adj</th>\n",
       "      <th>revenue_adj</th>\n",
       "    </tr>\n",
       "  </thead>\n",
       "  <tbody>\n",
       "    <tr>\n",
       "      <th>228</th>\n",
       "      <td>300792</td>\n",
       "      <td>0.584363</td>\n",
       "      <td>Racing Extinction</td>\n",
       "      <td>Elon Musk|Jane Goodall|Louie Psihoyos|Leilani ...</td>\n",
       "      <td>Louie Psihoyos</td>\n",
       "      <td>90</td>\n",
       "      <td>Adventure|Documentary</td>\n",
       "      <td>NaN</td>\n",
       "      <td>2015-01-24</td>\n",
       "      <td>36</td>\n",
       "      <td>7.8</td>\n",
       "      <td>0.0</td>\n",
       "      <td>0.0</td>\n",
       "    </tr>\n",
       "    <tr>\n",
       "      <th>259</th>\n",
       "      <td>360603</td>\n",
       "      <td>0.476341</td>\n",
       "      <td>Crown for Christmas</td>\n",
       "      <td>Danica McKellar|Rupert Penry-Jones|Ellie Botte...</td>\n",
       "      <td>Alex Zamm</td>\n",
       "      <td>84</td>\n",
       "      <td>TV Movie</td>\n",
       "      <td>NaN</td>\n",
       "      <td>2015-11-27</td>\n",
       "      <td>10</td>\n",
       "      <td>7.6</td>\n",
       "      <td>0.0</td>\n",
       "      <td>0.0</td>\n",
       "    </tr>\n",
       "    <tr>\n",
       "      <th>295</th>\n",
       "      <td>363483</td>\n",
       "      <td>0.417191</td>\n",
       "      <td>12 Gifts of Christmas</td>\n",
       "      <td>Katrina Law|Donna Mills|Aaron O'Connell|Melani...</td>\n",
       "      <td>Peter Sullivan</td>\n",
       "      <td>84</td>\n",
       "      <td>Family|TV Movie</td>\n",
       "      <td>NaN</td>\n",
       "      <td>2015-11-26</td>\n",
       "      <td>12</td>\n",
       "      <td>6.3</td>\n",
       "      <td>0.0</td>\n",
       "      <td>0.0</td>\n",
       "    </tr>\n",
       "    <tr>\n",
       "      <th>298</th>\n",
       "      <td>354220</td>\n",
       "      <td>0.370258</td>\n",
       "      <td>The Girl in the Photographs</td>\n",
       "      <td>Kal Penn|Claudia Lee|Kenny Wormald|Toby Heming...</td>\n",
       "      <td>Nick Simon</td>\n",
       "      <td>95</td>\n",
       "      <td>Crime|Horror|Thriller</td>\n",
       "      <td>NaN</td>\n",
       "      <td>2015-09-14</td>\n",
       "      <td>10</td>\n",
       "      <td>4.7</td>\n",
       "      <td>0.0</td>\n",
       "      <td>0.0</td>\n",
       "    </tr>\n",
       "    <tr>\n",
       "      <th>328</th>\n",
       "      <td>308457</td>\n",
       "      <td>0.367617</td>\n",
       "      <td>Advantageous</td>\n",
       "      <td>Jacqueline Kim|James Urbaniak|Freya Adams|Ken ...</td>\n",
       "      <td>Jennifer Phang</td>\n",
       "      <td>92</td>\n",
       "      <td>Science Fiction|Drama|Family</td>\n",
       "      <td>NaN</td>\n",
       "      <td>2015-06-23</td>\n",
       "      <td>29</td>\n",
       "      <td>6.4</td>\n",
       "      <td>0.0</td>\n",
       "      <td>0.0</td>\n",
       "    </tr>\n",
       "  </tbody>\n",
       "</table>\n",
       "</div>"
      ],
      "text/plain": [
       "         id  popularity               original_title  \\\n",
       "228  300792    0.584363            Racing Extinction   \n",
       "259  360603    0.476341          Crown for Christmas   \n",
       "295  363483    0.417191        12 Gifts of Christmas   \n",
       "298  354220    0.370258  The Girl in the Photographs   \n",
       "328  308457    0.367617                 Advantageous   \n",
       "\n",
       "                                                  cast        director  \\\n",
       "228  Elon Musk|Jane Goodall|Louie Psihoyos|Leilani ...  Louie Psihoyos   \n",
       "259  Danica McKellar|Rupert Penry-Jones|Ellie Botte...       Alex Zamm   \n",
       "295  Katrina Law|Donna Mills|Aaron O'Connell|Melani...  Peter Sullivan   \n",
       "298  Kal Penn|Claudia Lee|Kenny Wormald|Toby Heming...      Nick Simon   \n",
       "328  Jacqueline Kim|James Urbaniak|Freya Adams|Ken ...  Jennifer Phang   \n",
       "\n",
       "     runtime                        genres production_companies release_date  \\\n",
       "228       90         Adventure|Documentary                  NaN   2015-01-24   \n",
       "259       84                      TV Movie                  NaN   2015-11-27   \n",
       "295       84               Family|TV Movie                  NaN   2015-11-26   \n",
       "298       95         Crime|Horror|Thriller                  NaN   2015-09-14   \n",
       "328       92  Science Fiction|Drama|Family                  NaN   2015-06-23   \n",
       "\n",
       "     vote_count  vote_average  budget_adj  revenue_adj  \n",
       "228          36           7.8         0.0          0.0  \n",
       "259          10           7.6         0.0          0.0  \n",
       "295          12           6.3         0.0          0.0  \n",
       "298          10           4.7         0.0          0.0  \n",
       "328          29           6.4         0.0          0.0  "
      ]
     },
     "execution_count": 12,
     "metadata": {},
     "output_type": "execute_result"
    }
   ],
   "source": [
    "df[df['production_companies'].isnull()].head()\n",
    "# They are very unpopular or unsuccessful movies.OK to drop"
   ]
  },
  {
   "cell_type": "code",
   "execution_count": 13,
   "metadata": {},
   "outputs": [
    {
     "name": "stdout",
     "output_type": "stream",
     "text": [
      "<class 'pandas.core.frame.DataFrame'>\n",
      "Int64Index: 9773 entries, 0 to 10865\n",
      "Data columns (total 13 columns):\n",
      "id                      9773 non-null int64\n",
      "popularity              9773 non-null float64\n",
      "original_title          9773 non-null object\n",
      "cast                    9773 non-null object\n",
      "director                9773 non-null object\n",
      "runtime                 9773 non-null int64\n",
      "genres                  9773 non-null object\n",
      "production_companies    9773 non-null object\n",
      "release_date            9773 non-null datetime64[ns]\n",
      "vote_count              9773 non-null int64\n",
      "vote_average            9773 non-null float64\n",
      "budget_adj              9773 non-null float64\n",
      "revenue_adj             9773 non-null float64\n",
      "dtypes: datetime64[ns](1), float64(4), int64(3), object(5)\n",
      "memory usage: 1.0+ MB\n"
     ]
    }
   ],
   "source": [
    "#drop missing data\n",
    "df.dropna(inplace=True)\n",
    "df.info()"
   ]
  },
  {
   "cell_type": "code",
   "execution_count": 14,
   "metadata": {},
   "outputs": [
    {
     "name": "stdout",
     "output_type": "stream",
     "text": [
      "1\n"
     ]
    },
    {
     "data": {
      "text/html": [
       "<div>\n",
       "<style scoped>\n",
       "    .dataframe tbody tr th:only-of-type {\n",
       "        vertical-align: middle;\n",
       "    }\n",
       "\n",
       "    .dataframe tbody tr th {\n",
       "        vertical-align: top;\n",
       "    }\n",
       "\n",
       "    .dataframe thead th {\n",
       "        text-align: right;\n",
       "    }\n",
       "</style>\n",
       "<table border=\"1\" class=\"dataframe\">\n",
       "  <thead>\n",
       "    <tr style=\"text-align: right;\">\n",
       "      <th></th>\n",
       "      <th>id</th>\n",
       "      <th>popularity</th>\n",
       "      <th>original_title</th>\n",
       "      <th>cast</th>\n",
       "      <th>director</th>\n",
       "      <th>runtime</th>\n",
       "      <th>genres</th>\n",
       "      <th>production_companies</th>\n",
       "      <th>release_date</th>\n",
       "      <th>vote_count</th>\n",
       "      <th>vote_average</th>\n",
       "      <th>budget_adj</th>\n",
       "      <th>revenue_adj</th>\n",
       "    </tr>\n",
       "  </thead>\n",
       "  <tbody>\n",
       "    <tr>\n",
       "      <th>2090</th>\n",
       "      <td>42194</td>\n",
       "      <td>0.59643</td>\n",
       "      <td>TEKKEN</td>\n",
       "      <td>Jon Foo|Kelly Overton|Cary-Hiroyuki Tagawa|Ian...</td>\n",
       "      <td>Dwight H. Little</td>\n",
       "      <td>92</td>\n",
       "      <td>Crime|Drama|Action|Thriller|Science Fiction</td>\n",
       "      <td>Namco|Light Song Films</td>\n",
       "      <td>2010-03-20</td>\n",
       "      <td>110</td>\n",
       "      <td>5.0</td>\n",
       "      <td>30000000.0</td>\n",
       "      <td>967000.0</td>\n",
       "    </tr>\n",
       "  </tbody>\n",
       "</table>\n",
       "</div>"
      ],
      "text/plain": [
       "         id  popularity original_title  \\\n",
       "2090  42194     0.59643         TEKKEN   \n",
       "\n",
       "                                                   cast          director  \\\n",
       "2090  Jon Foo|Kelly Overton|Cary-Hiroyuki Tagawa|Ian...  Dwight H. Little   \n",
       "\n",
       "      runtime                                       genres  \\\n",
       "2090       92  Crime|Drama|Action|Thriller|Science Fiction   \n",
       "\n",
       "        production_companies release_date  vote_count  vote_average  \\\n",
       "2090  Namco|Light Song Films   2010-03-20         110           5.0   \n",
       "\n",
       "      budget_adj  revenue_adj  \n",
       "2090  30000000.0     967000.0  "
      ]
     },
     "execution_count": 14,
     "metadata": {},
     "output_type": "execute_result"
    }
   ],
   "source": [
    "#check duplicatees \n",
    "print(df.duplicated().sum())\n",
    "df[df.duplicated()]"
   ]
  },
  {
   "cell_type": "code",
   "execution_count": 15,
   "metadata": {},
   "outputs": [],
   "source": [
    "#Remove duplicates\n",
    "df.drop_duplicates(inplace=True)"
   ]
  },
  {
   "cell_type": "code",
   "execution_count": 16,
   "metadata": {},
   "outputs": [
    {
     "name": "stdout",
     "output_type": "stream",
     "text": [
      "<class 'pandas.core.frame.DataFrame'>\n",
      "Int64Index: 9772 entries, 0 to 10865\n",
      "Data columns (total 13 columns):\n",
      "id                      9772 non-null int64\n",
      "popularity              9772 non-null float64\n",
      "original_title          9772 non-null object\n",
      "cast                    9772 non-null object\n",
      "director                9772 non-null object\n",
      "runtime                 9772 non-null int64\n",
      "genres                  9772 non-null object\n",
      "production_companies    9772 non-null object\n",
      "release_date            9772 non-null datetime64[ns]\n",
      "vote_count              9772 non-null int64\n",
      "vote_average            9772 non-null float64\n",
      "budget_adj              9772 non-null float64\n",
      "revenue_adj             9772 non-null float64\n",
      "dtypes: datetime64[ns](1), float64(4), int64(3), object(5)\n",
      "memory usage: 1.0+ MB\n"
     ]
    }
   ],
   "source": [
    "#Double check\n",
    "df.info()"
   ]
  },
  {
   "cell_type": "code",
   "execution_count": 17,
   "metadata": {},
   "outputs": [
    {
     "data": {
      "text/plain": [
       "0        138.00\n",
       "1        138.00\n",
       "2        101.20\n",
       "3        184.00\n",
       "4        174.80\n",
       "5        124.20\n",
       "6        142.60\n",
       "7         99.36\n",
       "8         68.08\n",
       "9        161.00\n",
       "10       225.40\n",
       "11       161.92\n",
       "12        13.80\n",
       "13        80.96\n",
       "14       257.60\n",
       "15        40.48\n",
       "16        44.16\n",
       "17       119.60\n",
       "18        87.40\n",
       "19       147.20\n",
       "20       174.80\n",
       "21        27.60\n",
       "22       101.20\n",
       "23        36.80\n",
       "24        25.76\n",
       "25       138.00\n",
       "26        62.56\n",
       "27        74.52\n",
       "28        18.40\n",
       "29        56.12\n",
       "          ...  \n",
       "10834      0.00\n",
       "10835     80.62\n",
       "10836      0.00\n",
       "10837      0.00\n",
       "10838      0.00\n",
       "10839      0.00\n",
       "10840      0.00\n",
       "10841      0.50\n",
       "10843      0.00\n",
       "10844      0.00\n",
       "10845      0.00\n",
       "10846      0.00\n",
       "10847      0.00\n",
       "10848     34.36\n",
       "10849      0.00\n",
       "10850      0.00\n",
       "10851      0.00\n",
       "10852      0.00\n",
       "10854      0.00\n",
       "10855      4.70\n",
       "10856      0.00\n",
       "10857      0.00\n",
       "10858      0.00\n",
       "10859      0.00\n",
       "10860      0.00\n",
       "10861      0.00\n",
       "10862      0.00\n",
       "10863      0.00\n",
       "10864      0.00\n",
       "10865      0.13\n",
       "Name: budget_adj, Length: 9772, dtype: float64"
      ]
     },
     "execution_count": 17,
     "metadata": {},
     "output_type": "execute_result"
    }
   ],
   "source": [
    "#change adjusted budget to mil$\n",
    "df.budget_adj=round(df.budget_adj/1000000,2)\n",
    "df.budget_adj"
   ]
  },
  {
   "cell_type": "code",
   "execution_count": 18,
   "metadata": {},
   "outputs": [
    {
     "data": {
      "text/plain": [
       "0        1392.45\n",
       "1         348.16\n",
       "2         271.62\n",
       "3        1902.72\n",
       "4        1385.75\n",
       "5         490.31\n",
       "6         405.36\n",
       "7         547.75\n",
       "8        1064.19\n",
       "9         785.41\n",
       "10        810.22\n",
       "11        169.27\n",
       "12         33.92\n",
       "13        224.15\n",
       "14       1292.63\n",
       "15        143.30\n",
       "16        299.71\n",
       "17        477.11\n",
       "18        498.96\n",
       "19        598.48\n",
       "20        192.31\n",
       "21         84.37\n",
       "22        432.85\n",
       "23        524.08\n",
       "24        122.68\n",
       "25        627.74\n",
       "26        198.59\n",
       "27        371.50\n",
       "28         81.28\n",
       "29        286.36\n",
       "          ...   \n",
       "10834       0.00\n",
       "10835     134.36\n",
       "10836       0.00\n",
       "10837       0.00\n",
       "10838       0.00\n",
       "10839       0.00\n",
       "10840       0.00\n",
       "10841       0.00\n",
       "10843       0.00\n",
       "10844       0.00\n",
       "10845       0.00\n",
       "10846       0.00\n",
       "10847       0.00\n",
       "10848      80.62\n",
       "10849       0.00\n",
       "10850       0.00\n",
       "10851       0.00\n",
       "10852       0.00\n",
       "10854       0.00\n",
       "10855       0.00\n",
       "10856       0.00\n",
       "10857       0.00\n",
       "10858       0.00\n",
       "10859       0.00\n",
       "10860       0.00\n",
       "10861       0.00\n",
       "10862       0.00\n",
       "10863       0.00\n",
       "10864       0.00\n",
       "10865       0.00\n",
       "Name: revenue_adj, Length: 9772, dtype: float64"
      ]
     },
     "execution_count": 18,
     "metadata": {},
     "output_type": "execute_result"
    }
   ],
   "source": [
    "#And change adjusted revenue to mil$\n",
    "df.revenue_adj=round(df.revenue_adj/1000000,2)\n",
    "df.revenue_adj"
   ]
  },
  {
   "cell_type": "code",
   "execution_count": 19,
   "metadata": {},
   "outputs": [],
   "source": [
    "#Round up the poluarity score\n",
    "df.popularity=round(df.popularity,2)"
   ]
  },
  {
   "cell_type": "code",
   "execution_count": 20,
   "metadata": {},
   "outputs": [
    {
     "name": "stdout",
     "output_type": "stream",
     "text": [
      "<class 'pandas.core.frame.DataFrame'>\n",
      "Int64Index: 9772 entries, 0 to 10865\n",
      "Data columns (total 13 columns):\n",
      "id                      9772 non-null int64\n",
      "popularity              9772 non-null float64\n",
      "original_title          9772 non-null object\n",
      "cast                    9772 non-null object\n",
      "director                9772 non-null object\n",
      "runtime                 9772 non-null int64\n",
      "genres                  9772 non-null object\n",
      "production_companies    9772 non-null object\n",
      "release_date            9772 non-null datetime64[ns]\n",
      "vote_count              9772 non-null int64\n",
      "vote_average            9772 non-null float64\n",
      "budget_adj              9772 non-null float64\n",
      "revenue_adj             9772 non-null float64\n",
      "dtypes: datetime64[ns](1), float64(4), int64(3), object(5)\n",
      "memory usage: 1.0+ MB\n"
     ]
    }
   ],
   "source": [
    "#Check the cleaned data\n",
    "df.info()"
   ]
  },
  {
   "cell_type": "markdown",
   "metadata": {},
   "source": [
    "<a id='eda'></a>\n",
    "## Exploratory Data Analysis\n",
    "\n",
    "### Q1: What are the top movies by revenue, budget and profit?"
   ]
  },
  {
   "cell_type": "code",
   "execution_count": 21,
   "metadata": {},
   "outputs": [],
   "source": [
    "#Build a function for sorting the data by a particular column with descending order and plot the results with bar charts\n",
    "\n",
    "def top_titles(column_name, n,start_year=0): \n",
    "    if start_year>0:\n",
    "        top_n= df[df['release_date'] >= str(start_year)].sort_values(column_name,ascending=False)[:n]\n",
    "    else: top_n = df.sort_values(column_name,ascending=False)[:n]\n",
    "    sns.barplot(x=column_name,y='original_title',data=top_n,label=column_name)\n",
    "    med = df[column_name].mean()\n",
    "    plt.axvline(med,color='k',linestyle='--',label='median')\n",
    "    plt.xlabel(column_name.capitalize()+'in mil USD')\n",
    "    plt.ylabel('Title')\n",
    "    plt.title('Top '+str(n)+' movies by '+column_name)\n",
    "    plt.legend()\n",
    "    plt.show()"
   ]
  },
  {
   "cell_type": "markdown",
   "metadata": {},
   "source": [
    "Inpired by Ayşe Bat's [post](https://medium.com/my-data-camp-journey/investigating-tmdb-movie-datasets-4ee04c263915) on Medium 'Investigating TMDB Movies'"
   ]
  },
  {
   "cell_type": "markdown",
   "metadata": {},
   "source": [
    "#### 1a: What are the all-time top 10 grossing films?"
   ]
  },
  {
   "cell_type": "code",
   "execution_count": 22,
   "metadata": {},
   "outputs": [
    {
     "data": {
      "image/png": "[encoded data removed]",
      "text/plain": [
       "<matplotlib.figure.Figure at 0x7ff26ecee2e8>"
      ]
     },
     "metadata": {
      "needs_background": "light"
     },
     "output_type": "display_data"
    }
   ],
   "source": [
    "top_titles('revenue_adj',10);"
   ]
  },
  {
   "cell_type": "markdown",
   "metadata": {},
   "source": [
    "#### 1b: What are the top 10 grossing movies since 2000?"
   ]
  },
  {
   "cell_type": "code",
   "execution_count": 23,
   "metadata": {},
   "outputs": [
    {
     "data": {
      "image/png": "[encoded data removed]",
      "text/plain": [
       "<matplotlib.figure.Figure at 0x7ff270dd49b0>"
      ]
     },
     "metadata": {
      "needs_background": "light"
     },
     "output_type": "display_data"
    }
   ],
   "source": [
    "top_titles('revenue_adj',10,2000)"
   ]
  },
  {
   "cell_type": "raw",
   "metadata": {},
   "source": [
    "#### 1c: What are the 10 most profitable movies of all time?"
   ]
  },
  {
   "cell_type": "code",
   "execution_count": 24,
   "metadata": {},
   "outputs": [],
   "source": [
    "# create a new profit column\n",
    "df['profit']=df['revenue_adj']-df['budget_adj']"
   ]
  },
  {
   "cell_type": "code",
   "execution_count": 25,
   "metadata": {},
   "outputs": [
    {
     "data": {
      "image/png": "[encoded data removed]",
      "text/plain": [
       "<matplotlib.figure.Figure at 0x7ff270682048>"
      ]
     },
     "metadata": {
      "needs_background": "light"
     },
     "output_type": "display_data"
    }
   ],
   "source": [
    "top_titles('profit',10)"
   ]
  },
  {
   "cell_type": "markdown",
   "metadata": {},
   "source": [
    "#### 1d: What are the 10 most profitable movies since 2000?"
   ]
  },
  {
   "cell_type": "code",
   "execution_count": 26,
   "metadata": {},
   "outputs": [
    {
     "data": {
      "image/png": "[encoded data removed]",
      "text/plain": [
       "<matplotlib.figure.Figure at 0x7ff27061fb38>"
      ]
     },
     "metadata": {
      "needs_background": "light"
     },
     "output_type": "display_data"
    }
   ],
   "source": [
    "top_titles('profit',10,2000)"
   ]
  },
  {
   "cell_type": "markdown",
   "metadata": {},
   "source": [
    "#### 1e: What are the 10 most expensive movies of all time?"
   ]
  },
  {
   "cell_type": "code",
   "execution_count": 27,
   "metadata": {},
   "outputs": [
    {
     "data": {
      "image/png": "[encoded data removed]",
      "text/plain": [
       "<matplotlib.figure.Figure at 0x7ff270642f60>"
      ]
     },
     "metadata": {
      "needs_background": "light"
     },
     "output_type": "display_data"
    }
   ],
   "source": [
    "top_titles('budget_adj',10)"
   ]
  },
  {
   "cell_type": "markdown",
   "metadata": {},
   "source": [
    "#### 1f: What are the 10 most expensive movies since 2000?"
   ]
  },
  {
   "cell_type": "code",
   "execution_count": 28,
   "metadata": {},
   "outputs": [
    {
     "data": {
      "image/png": "[encoded data removed]",
      "text/plain": [
       "<matplotlib.figure.Figure at 0x7ff2704ee6a0>"
      ]
     },
     "metadata": {
      "needs_background": "light"
     },
     "output_type": "display_data"
    }
   ],
   "source": [
    "top_titles('budget_adj',10,2000)"
   ]
  },
  {
   "cell_type": "markdown",
   "metadata": {},
   "source": [
    "### Q2: What kinds of properties are associated with movies that have high revenues? What about high profits?"
   ]
  },
  {
   "cell_type": "markdown",
   "metadata": {},
   "source": [
    "##### 2a: Show the stats for movies with revenues higher than the median"
   ]
  },
  {
   "cell_type": "code",
   "execution_count": 29,
   "metadata": {},
   "outputs": [
    {
     "data": {
      "text/html": [
       "<div>\n",
       "<style scoped>\n",
       "    .dataframe tbody tr th:only-of-type {\n",
       "        vertical-align: middle;\n",
       "    }\n",
       "\n",
       "    .dataframe tbody tr th {\n",
       "        vertical-align: top;\n",
       "    }\n",
       "\n",
       "    .dataframe thead th {\n",
       "        text-align: right;\n",
       "    }\n",
       "</style>\n",
       "<table border=\"1\" class=\"dataframe\">\n",
       "  <thead>\n",
       "    <tr style=\"text-align: right;\">\n",
       "      <th></th>\n",
       "      <th>id</th>\n",
       "      <th>popularity</th>\n",
       "      <th>runtime</th>\n",
       "      <th>vote_count</th>\n",
       "      <th>vote_average</th>\n",
       "      <th>budget_adj</th>\n",
       "      <th>revenue_adj</th>\n",
       "      <th>profit</th>\n",
       "    </tr>\n",
       "  </thead>\n",
       "  <tbody>\n",
       "    <tr>\n",
       "      <th>count</th>\n",
       "      <td>4686.000000</td>\n",
       "      <td>4686.000000</td>\n",
       "      <td>4686.000000</td>\n",
       "      <td>4686.000000</td>\n",
       "      <td>4686.000000</td>\n",
       "      <td>4686.000000</td>\n",
       "      <td>4686.000000</td>\n",
       "      <td>4686.000000</td>\n",
       "    </tr>\n",
       "    <tr>\n",
       "      <th>mean</th>\n",
       "      <td>43959.290440</td>\n",
       "      <td>1.070734</td>\n",
       "      <td>108.284891</td>\n",
       "      <td>449.896714</td>\n",
       "      <td>6.156765</td>\n",
       "      <td>36.220386</td>\n",
       "      <td>118.976242</td>\n",
       "      <td>82.755856</td>\n",
       "    </tr>\n",
       "    <tr>\n",
       "      <th>std</th>\n",
       "      <td>72038.170157</td>\n",
       "      <td>1.372528</td>\n",
       "      <td>21.109122</td>\n",
       "      <td>816.882281</td>\n",
       "      <td>0.794326</td>\n",
       "      <td>44.068664</td>\n",
       "      <td>201.167602</td>\n",
       "      <td>178.803478</td>\n",
       "    </tr>\n",
       "    <tr>\n",
       "      <th>min</th>\n",
       "      <td>5.000000</td>\n",
       "      <td>0.000000</td>\n",
       "      <td>26.000000</td>\n",
       "      <td>10.000000</td>\n",
       "      <td>2.100000</td>\n",
       "      <td>0.000000</td>\n",
       "      <td>0.010000</td>\n",
       "      <td>-413.910000</td>\n",
       "    </tr>\n",
       "    <tr>\n",
       "      <th>25%</th>\n",
       "      <td>8066.500000</td>\n",
       "      <td>0.410000</td>\n",
       "      <td>95.000000</td>\n",
       "      <td>51.000000</td>\n",
       "      <td>5.700000</td>\n",
       "      <td>3.585000</td>\n",
       "      <td>12.740000</td>\n",
       "      <td>0.270000</td>\n",
       "    </tr>\n",
       "    <tr>\n",
       "      <th>50%</th>\n",
       "      <td>11923.000000</td>\n",
       "      <td>0.700000</td>\n",
       "      <td>105.000000</td>\n",
       "      <td>158.000000</td>\n",
       "      <td>6.200000</td>\n",
       "      <td>21.630000</td>\n",
       "      <td>47.265000</td>\n",
       "      <td>23.550000</td>\n",
       "    </tr>\n",
       "    <tr>\n",
       "      <th>75%</th>\n",
       "      <td>42296.750000</td>\n",
       "      <td>1.240000</td>\n",
       "      <td>118.000000</td>\n",
       "      <td>455.750000</td>\n",
       "      <td>6.700000</td>\n",
       "      <td>50.680000</td>\n",
       "      <td>136.907500</td>\n",
       "      <td>90.677500</td>\n",
       "    </tr>\n",
       "    <tr>\n",
       "      <th>max</th>\n",
       "      <td>417859.000000</td>\n",
       "      <td>32.990000</td>\n",
       "      <td>705.000000</td>\n",
       "      <td>9767.000000</td>\n",
       "      <td>8.400000</td>\n",
       "      <td>425.000000</td>\n",
       "      <td>2827.120000</td>\n",
       "      <td>2750.130000</td>\n",
       "    </tr>\n",
       "  </tbody>\n",
       "</table>\n",
       "</div>"
      ],
      "text/plain": [
       "                  id   popularity      runtime   vote_count  vote_average  \\\n",
       "count    4686.000000  4686.000000  4686.000000  4686.000000   4686.000000   \n",
       "mean    43959.290440     1.070734   108.284891   449.896714      6.156765   \n",
       "std     72038.170157     1.372528    21.109122   816.882281      0.794326   \n",
       "min         5.000000     0.000000    26.000000    10.000000      2.100000   \n",
       "25%      8066.500000     0.410000    95.000000    51.000000      5.700000   \n",
       "50%     11923.000000     0.700000   105.000000   158.000000      6.200000   \n",
       "75%     42296.750000     1.240000   118.000000   455.750000      6.700000   \n",
       "max    417859.000000    32.990000   705.000000  9767.000000      8.400000   \n",
       "\n",
       "        budget_adj  revenue_adj       profit  \n",
       "count  4686.000000  4686.000000  4686.000000  \n",
       "mean     36.220386   118.976242    82.755856  \n",
       "std      44.068664   201.167602   178.803478  \n",
       "min       0.000000     0.010000  -413.910000  \n",
       "25%       3.585000    12.740000     0.270000  \n",
       "50%      21.630000    47.265000    23.550000  \n",
       "75%      50.680000   136.907500    90.677500  \n",
       "max     425.000000  2827.120000  2750.130000  "
      ]
     },
     "execution_count": 29,
     "metadata": {},
     "output_type": "execute_result"
    }
   ],
   "source": [
    "df.query('revenue_adj>revenue_adj.median()').describe()"
   ]
  },
  {
   "cell_type": "markdown",
   "metadata": {},
   "source": [
    "##### 2b: Show the stats for movies with profits higher than the median"
   ]
  },
  {
   "cell_type": "code",
   "execution_count": 30,
   "metadata": {},
   "outputs": [
    {
     "data": {
      "text/html": [
       "<div>\n",
       "<style scoped>\n",
       "    .dataframe tbody tr th:only-of-type {\n",
       "        vertical-align: middle;\n",
       "    }\n",
       "\n",
       "    .dataframe tbody tr th {\n",
       "        vertical-align: top;\n",
       "    }\n",
       "\n",
       "    .dataframe thead th {\n",
       "        text-align: right;\n",
       "    }\n",
       "</style>\n",
       "<table border=\"1\" class=\"dataframe\">\n",
       "  <thead>\n",
       "    <tr style=\"text-align: right;\">\n",
       "      <th></th>\n",
       "      <th>id</th>\n",
       "      <th>popularity</th>\n",
       "      <th>runtime</th>\n",
       "      <th>vote_count</th>\n",
       "      <th>vote_average</th>\n",
       "      <th>budget_adj</th>\n",
       "      <th>revenue_adj</th>\n",
       "      <th>profit</th>\n",
       "    </tr>\n",
       "  </thead>\n",
       "  <tbody>\n",
       "    <tr>\n",
       "      <th>count</th>\n",
       "      <td>3658.000000</td>\n",
       "      <td>3658.000000</td>\n",
       "      <td>3658.000000</td>\n",
       "      <td>3658.000000</td>\n",
       "      <td>3658.000000</td>\n",
       "      <td>3658.000000</td>\n",
       "      <td>3658.000000</td>\n",
       "      <td>3658.000000</td>\n",
       "    </tr>\n",
       "    <tr>\n",
       "      <th>mean</th>\n",
       "      <td>43934.279114</td>\n",
       "      <td>1.194636</td>\n",
       "      <td>108.575998</td>\n",
       "      <td>536.531711</td>\n",
       "      <td>6.244013</td>\n",
       "      <td>36.124978</td>\n",
       "      <td>147.005448</td>\n",
       "      <td>110.880470</td>\n",
       "    </tr>\n",
       "    <tr>\n",
       "      <th>std</th>\n",
       "      <td>73226.520484</td>\n",
       "      <td>1.511563</td>\n",
       "      <td>21.685672</td>\n",
       "      <td>900.262193</td>\n",
       "      <td>0.778121</td>\n",
       "      <td>46.251977</td>\n",
       "      <td>219.335303</td>\n",
       "      <td>192.887389</td>\n",
       "    </tr>\n",
       "    <tr>\n",
       "      <th>min</th>\n",
       "      <td>5.000000</td>\n",
       "      <td>0.000000</td>\n",
       "      <td>26.000000</td>\n",
       "      <td>10.000000</td>\n",
       "      <td>2.100000</td>\n",
       "      <td>0.000000</td>\n",
       "      <td>0.010000</td>\n",
       "      <td>0.010000</td>\n",
       "    </tr>\n",
       "    <tr>\n",
       "      <th>25%</th>\n",
       "      <td>6076.500000</td>\n",
       "      <td>0.440000</td>\n",
       "      <td>95.000000</td>\n",
       "      <td>61.000000</td>\n",
       "      <td>5.725000</td>\n",
       "      <td>0.000000</td>\n",
       "      <td>24.312500</td>\n",
       "      <td>12.147500</td>\n",
       "    </tr>\n",
       "    <tr>\n",
       "      <th>50%</th>\n",
       "      <td>11563.000000</td>\n",
       "      <td>0.790000</td>\n",
       "      <td>105.000000</td>\n",
       "      <td>200.500000</td>\n",
       "      <td>6.300000</td>\n",
       "      <td>20.180000</td>\n",
       "      <td>73.150000</td>\n",
       "      <td>44.035000</td>\n",
       "    </tr>\n",
       "    <tr>\n",
       "      <th>75%</th>\n",
       "      <td>41213.750000</td>\n",
       "      <td>1.390000</td>\n",
       "      <td>118.000000</td>\n",
       "      <td>589.000000</td>\n",
       "      <td>6.800000</td>\n",
       "      <td>50.820000</td>\n",
       "      <td>177.117500</td>\n",
       "      <td>123.902500</td>\n",
       "    </tr>\n",
       "    <tr>\n",
       "      <th>max</th>\n",
       "      <td>417859.000000</td>\n",
       "      <td>32.990000</td>\n",
       "      <td>705.000000</td>\n",
       "      <td>9767.000000</td>\n",
       "      <td>8.400000</td>\n",
       "      <td>368.370000</td>\n",
       "      <td>2827.120000</td>\n",
       "      <td>2750.130000</td>\n",
       "    </tr>\n",
       "  </tbody>\n",
       "</table>\n",
       "</div>"
      ],
      "text/plain": [
       "                  id   popularity      runtime   vote_count  vote_average  \\\n",
       "count    3658.000000  3658.000000  3658.000000  3658.000000   3658.000000   \n",
       "mean    43934.279114     1.194636   108.575998   536.531711      6.244013   \n",
       "std     73226.520484     1.511563    21.685672   900.262193      0.778121   \n",
       "min         5.000000     0.000000    26.000000    10.000000      2.100000   \n",
       "25%      6076.500000     0.440000    95.000000    61.000000      5.725000   \n",
       "50%     11563.000000     0.790000   105.000000   200.500000      6.300000   \n",
       "75%     41213.750000     1.390000   118.000000   589.000000      6.800000   \n",
       "max    417859.000000    32.990000   705.000000  9767.000000      8.400000   \n",
       "\n",
       "        budget_adj  revenue_adj       profit  \n",
       "count  3658.000000  3658.000000  3658.000000  \n",
       "mean     36.124978   147.005448   110.880470  \n",
       "std      46.251977   219.335303   192.887389  \n",
       "min       0.000000     0.010000     0.010000  \n",
       "25%       0.000000    24.312500    12.147500  \n",
       "50%      20.180000    73.150000    44.035000  \n",
       "75%      50.820000   177.117500   123.902500  \n",
       "max     368.370000  2827.120000  2750.130000  "
      ]
     },
     "execution_count": 30,
     "metadata": {},
     "output_type": "execute_result"
    }
   ],
   "source": [
    "df.query('profit>profit.median()').describe()"
   ]
  },
  {
   "cell_type": "markdown",
   "metadata": {},
   "source": [
    "### Q3:What factors correlate with the profit for a commercially succesfully* movie?\n",
    "*Commercial success defined by profit greater than 500 mil USD"
   ]
  },
  {
   "cell_type": "code",
   "execution_count": 31,
   "metadata": {},
   "outputs": [],
   "source": [
    "#Create functions to plot the relationship\n",
    "def rel(col_name):\n",
    "    plt.scatter(col_name,'profit',data=df.query('profit>500'))\n",
    "    if col_name=='budget_adj':\n",
    "        plt.xlabel(col_name.capitalize()+' in mil USD')\n",
    "    else:plt.xlabel(col_name.capitalize())\n",
    "    plt.ylabel('profit in mil USD');"
   ]
  },
  {
   "cell_type": "markdown",
   "metadata": {},
   "source": [
    "##### Relationship between budget and profit"
   ]
  },
  {
   "cell_type": "code",
   "execution_count": 32,
   "metadata": {},
   "outputs": [
    {
     "data": {
      "image/png": "[encoded data removed]",
      "text/plain": [
       "<matplotlib.figure.Figure at 0x7ff270d1eba8>"
      ]
     },
     "metadata": {
      "needs_background": "light"
     },
     "output_type": "display_data"
    }
   ],
   "source": [
    "rel('budget_adj')"
   ]
  },
  {
   "cell_type": "markdown",
   "metadata": {},
   "source": [
    "##### Relationship between popularity and profit"
   ]
  },
  {
   "cell_type": "code",
   "execution_count": 33,
   "metadata": {},
   "outputs": [
    {
     "data": {
      "image/png": "[encoded data removed]",
      "text/plain": [
       "<matplotlib.figure.Figure at 0x7ff270454390>"
      ]
     },
     "metadata": {
      "needs_background": "light"
     },
     "output_type": "display_data"
    }
   ],
   "source": [
    "rel('popularity')"
   ]
  },
  {
   "cell_type": "markdown",
   "metadata": {},
   "source": [
    "##### Relationship between vote count and profit"
   ]
  },
  {
   "cell_type": "code",
   "execution_count": 34,
   "metadata": {},
   "outputs": [
    {
     "data": {
      "image/png": "[encoded data removed]",
      "text/plain": [
       "<matplotlib.figure.Figure at 0x7ff270399208>"
      ]
     },
     "metadata": {
      "needs_background": "light"
     },
     "output_type": "display_data"
    }
   ],
   "source": [
    "rel('vote_count')"
   ]
  },
  {
   "cell_type": "markdown",
   "metadata": {},
   "source": [
    "##### Relationship between vote average and profit"
   ]
  },
  {
   "cell_type": "code",
   "execution_count": 35,
   "metadata": {},
   "outputs": [
    {
     "data": {
      "image/png": "[encoded data removed]",
      "text/plain": [
       "<matplotlib.figure.Figure at 0x7ff2703a1240>"
      ]
     },
     "metadata": {
      "needs_background": "light"
     },
     "output_type": "display_data"
    }
   ],
   "source": [
    "rel('vote_average')"
   ]
  },
  {
   "cell_type": "markdown",
   "metadata": {},
   "source": [
    "##### Relationship between runtime and profit"
   ]
  },
  {
   "cell_type": "code",
   "execution_count": 36,
   "metadata": {},
   "outputs": [
    {
     "data": {
      "image/png": "[encoded data removed]",
      "text/plain": [
       "<matplotlib.figure.Figure at 0x7ff270344a90>"
      ]
     },
     "metadata": {
      "needs_background": "light"
     },
     "output_type": "display_data"
    }
   ],
   "source": [
    "rel('runtime')"
   ]
  },
  {
   "cell_type": "markdown",
   "metadata": {},
   "source": [
    "##### Popularity, budget, vote count, vote average and runtime all have a positive relationship with profit."
   ]
  },
  {
   "cell_type": "markdown",
   "metadata": {},
   "source": [
    "### Q3: Who are the best performing directors and what are their winning titles?\n",
    "#### 3a: Who are the top 5 directors by total revenues?"
   ]
  },
  {
   "cell_type": "code",
   "execution_count": 37,
   "metadata": {},
   "outputs": [
    {
     "data": {
      "image/png": "[encoded data removed]",
      "text/plain": [
       "<matplotlib.figure.Figure at 0x7ff270dd49b0>"
      ]
     },
     "metadata": {
      "needs_background": "light"
     },
     "output_type": "display_data"
    }
   ],
   "source": [
    "top_dir = df.groupby('director').revenue_adj.sum().sort_values(ascending=False)[:5]\n",
    "sns.barplot(top_dir.values,top_dir.index)\n",
    "plt.xlabel('Total revenue generated')\n",
    "plt.ylabel('Director')\n",
    "plt.title('Top 5 Directors by total box office revenue');"
   ]
  },
  {
   "cell_type": "markdown",
   "metadata": {},
   "source": [
    "#### 3b: What is the biggest hit for each director and what's the box office revenue?"
   ]
  },
  {
   "cell_type": "code",
   "execution_count": 38,
   "metadata": {},
   "outputs": [],
   "source": [
    "#Select movies from the top 5 directors with the highest revenues\n",
    "best4_dir = df.loc[df[df['director'].isin(top_dir.index.tolist())].groupby('director').revenue_adj.idxmax()].sort_values('revenue_adj',ascending=False)\n",
    "best4_dir['director_title']= best4_dir.director.str.cat(best4_dir.original_title,sep=\"/\")"
   ]
  },
  {
   "cell_type": "code",
   "execution_count": 39,
   "metadata": {},
   "outputs": [
    {
     "data": {
      "image/png": "[encoded data removed]",
      "text/plain": [
       "<matplotlib.figure.Figure at 0x7ff270406da0>"
      ]
     },
     "metadata": {
      "needs_background": "light"
     },
     "output_type": "display_data"
    }
   ],
   "source": [
    "#Plot the result\n",
    "sns.barplot('revenue_adj','director_title',data=best4_dir)\n",
    "plt.xlabel('Total adjusted revenue in mil USD')\n",
    "plt.ylabel('Director/Title')\n",
    "plt.title('Top box-office winners and their best titles');"
   ]
  },
  {
   "cell_type": "markdown",
   "metadata": {},
   "source": [
    "#### Compare this result to that of question 1, we spot overlaps and differences:\n",
    ">1.James Cameron's Avatar, George Lucas' Star Wars and Steven Spielberg's Jaws are on both list\n",
    "\n",
    ">2.Titanic and the Exocist don't appear because we only show the best for each director here. Cameron has two movies out of all-time top 5 and Titanic is not shown here. Likewise,the Exocist's director William Friedkin is not among the top 5 directors by total revenue."
   ]
  },
  {
   "cell_type": "markdown",
   "metadata": {},
   "source": [
    "### Q4: The 10 most popular genres since 1990s?"
   ]
  },
  {
   "cell_type": "markdown",
   "metadata": {},
   "source": [
    "Some columns contain multiple values, we need to parse them first"
   ]
  },
  {
   "cell_type": "code",
   "execution_count": 40,
   "metadata": {},
   "outputs": [],
   "source": [
    "#Create a function to find the most popular genres during a given period and plot the results\n",
    "def split_col(col_name,n): \n",
    "    #n, the top n results to be selected\n",
    "    str_yr=input('Since which year? (any value >=1966)')\n",
    "    end_yr=input('Until which year? (any value <=2015)')             \n",
    "    df1=df[(df['release_date'] >=str_yr) & (df['release_date']<=str(int(end_yr)+1))]\n",
    "    df2=df1[col_name].str.cat(sep=\"|\")\n",
    "    df3=pd.Series(df2.split(\"|\")).value_counts(ascending=False).head(n)\n",
    "    sns.barplot(df3.values,df3.index)\n",
    "    plt.ylabel(col_name.capitalize())\n",
    "    plt.xlabel('No. of movies')\n",
    "    plt.title('The '+str(n)+' most popuplar '+col_name+' from '+str_yr+' to '+end_yr)"
   ]
  },
  {
   "cell_type": "code",
   "execution_count": 42,
   "metadata": {},
   "outputs": [
    {
     "name": "stdout",
     "output_type": "stream",
     "text": [
      "Since which year? (any value >=1966)1990\n",
      "Until which year? (any value <=2015)2015\n"
     ]
    },
    {
     "data": {
      "image/png": "[encoded data removed]",
      "text/plain": [
       "<matplotlib.figure.Figure at 0x7ff2705eaf28>"
      ]
     },
     "metadata": {
      "needs_background": "light"
     },
     "output_type": "display_data"
    }
   ],
   "source": [
    "#Find the top 10 genres since the 90s\n",
    "split_col('genres',10)"
   ]
  },
  {
   "cell_type": "markdown",
   "metadata": {},
   "source": [
    "### Q4: 10 most popular* actors/actresses since 2000?\n",
    "##### *defined by the number of movies they appeared"
   ]
  },
  {
   "cell_type": "code",
   "execution_count": 44,
   "metadata": {},
   "outputs": [
    {
     "name": "stdout",
     "output_type": "stream",
     "text": [
      "Since which year? (any value >=1966)2000\n",
      "Until which year? (any value <=2015)2015\n"
     ]
    },
    {
     "data": {
      "image/png": "[encoded data removed]",
      "text/plain": [
       "<matplotlib.figure.Figure at 0x7ff2705102e8>"
      ]
     },
     "metadata": {
      "needs_background": "light"
     },
     "output_type": "display_data"
    }
   ],
   "source": [
    "split_col('cast',10)"
   ]
  },
  {
   "cell_type": "markdown",
   "metadata": {},
   "source": [
    "<a id='conclusions'></a>\n",
    "## Conclusions\n",
    "\n",
    "> **1**. The lists of the highest grossing, the most profitable and the most expensive movies have overlaps and distinctions. For instance, Waterworld's budget is the 9th highest of all time but it is neither the 10 most profitable or the top 10 grossing.\n",
    "\n",
    "> **2**. Popularity, budget, vote count, vote average and runtime all have a positive relationship with profit and it is worth doing more statistical tests.\n",
    "\n",
    "> **3**. Spielburg has generated more box office revenue than any other directors during 1966-2015.\n",
    "\n",
    "> **4**. From 1990 to 2015, the most popular genre is Drama.\n",
    "\n",
    "> **5**. Samuel Jackson casted in the highest number of movies post 2000.\n",
    "\n",
    "### Limitations\n",
    "\n",
    "> **1**: For Q2, plots charts cannot confirm casuality or indicate statistical significance. More tests need to be done.\n",
    "\n",
    "> **2**: It doesn't specify for entries with multiple values, whether those values are ranked by importance or relevancy. E.g For an entry like Drama/Romance/Sci-fi, does it imply the movie is more a drama than a sci-fi? By parsing the values in genres/casts and counting the occurences, I assume that order doesn't matter, although it normally does in real life. "
   ]
  },
  {
   "cell_type": "code",
   "execution_count": null,
   "metadata": {
    "collapsed": true,
    "jupyter": {
     "outputs_hidden": true
    }
   },
   "outputs": [],
   "source": []
  }
 ],
 "metadata": {
  "kernelspec": {
   "display_name": "Python 3",
   "language": "python",
   "name": "python3"
  },
  "language_info": {
   "codemirror_mode": {
    "name": "ipython",
    "version": 3
   },
   "file_extension": ".py",
   "mimetype": "text/x-python",
   "name": "python",
   "nbconvert_exporter": "python",
   "pygments_lexer": "ipython3",
   "version": "3.7.4"
  },
  "latex_envs": {
   "LaTeX_envs_menu_present": true,
   "autoclose": false,
   "autocomplete": true,
   "bibliofile": "biblio.bib",
   "cite_by": "apalike",
   "current_citInitial": 1,
   "eqLabelWithNumbers": true,
   "eqNumInitial": 1,
   "hotkeys": {
    "equation": "Ctrl-E",
    "itemize": "Ctrl-I"
   },
   "labels_anchors": false,
   "latex_user_defs": false,
   "report_style_numbering": false,
   "user_envs_cfg": false
  },
  "toc": {
   "base_numbering": 1,
   "nav_menu": {},
   "number_sections": true,
   "sideBar": true,
   "skip_h1_title": false,
   "title_cell": "Table of Contents",
   "title_sidebar": "Contents",
   "toc_cell": false,
   "toc_position": {},
   "toc_section_display": true,
   "toc_window_display": false
  }
 },
 "nbformat": 4,
 "nbformat_minor": 4
}
